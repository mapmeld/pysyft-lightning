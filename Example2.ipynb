{
  "nbformat": 4,
  "nbformat_minor": 0,
  "metadata": {
    "colab": {
      "name": "PySyft-Lightning-Part2.ipynb",
      "provenance": []
    },
    "kernelspec": {
      "name": "python3",
      "display_name": "Python 3"
    },
    "widgets": {
      "application/vnd.jupyter.widget-state+json": {
        "ebe3a81ca23a4e138b945f921dce35b8": {
          "model_module": "@jupyter-widgets/controls",
          "model_name": "HBoxModel",
          "state": {
            "_view_name": "HBoxView",
            "_dom_classes": [],
            "_model_name": "HBoxModel",
            "_view_module": "@jupyter-widgets/controls",
            "_model_module_version": "1.5.0",
            "_view_count": null,
            "_view_module_version": "1.5.0",
            "box_style": "",
            "layout": "IPY_MODEL_d492975e01484481b743c7e0ec9d6c7b",
            "_model_module": "@jupyter-widgets/controls",
            "children": [
              "IPY_MODEL_0120902e94a84d479f1b5016a053aa73",
              "IPY_MODEL_1b1cfd39066f4793aceb39e905587ee6"
            ]
          }
        },
        "d492975e01484481b743c7e0ec9d6c7b": {
          "model_module": "@jupyter-widgets/base",
          "model_name": "LayoutModel",
          "state": {
            "_view_name": "LayoutView",
            "grid_template_rows": null,
            "right": null,
            "justify_content": null,
            "_view_module": "@jupyter-widgets/base",
            "overflow": null,
            "_model_module_version": "1.2.0",
            "_view_count": null,
            "flex_flow": "row wrap",
            "width": "100%",
            "min_width": null,
            "border": null,
            "align_items": null,
            "bottom": null,
            "_model_module": "@jupyter-widgets/base",
            "top": null,
            "grid_column": null,
            "overflow_y": null,
            "overflow_x": null,
            "grid_auto_flow": null,
            "grid_area": null,
            "grid_template_columns": null,
            "flex": null,
            "_model_name": "LayoutModel",
            "justify_items": null,
            "grid_row": null,
            "max_height": null,
            "align_content": null,
            "visibility": null,
            "align_self": null,
            "height": null,
            "min_height": null,
            "padding": null,
            "grid_auto_rows": null,
            "grid_gap": null,
            "max_width": null,
            "order": null,
            "_view_module_version": "1.2.0",
            "grid_template_areas": null,
            "object_position": null,
            "object_fit": null,
            "grid_auto_columns": null,
            "margin": null,
            "display": "inline-flex",
            "left": null
          }
        },
        "0120902e94a84d479f1b5016a053aa73": {
          "model_module": "@jupyter-widgets/controls",
          "model_name": "FloatProgressModel",
          "state": {
            "_view_name": "ProgressView",
            "style": "IPY_MODEL_579ab3950fb5471d8dde6d18ef1813aa",
            "_dom_classes": [],
            "description": "Epoch 10: 100%",
            "_model_name": "FloatProgressModel",
            "bar_style": "success",
            "max": 16,
            "_view_module": "@jupyter-widgets/controls",
            "_model_module_version": "1.5.0",
            "value": 16,
            "_view_count": null,
            "_view_module_version": "1.5.0",
            "orientation": "horizontal",
            "min": 0,
            "description_tooltip": null,
            "_model_module": "@jupyter-widgets/controls",
            "layout": "IPY_MODEL_3f5fadf04c7c48e68524ee33a584c005"
          }
        },
        "1b1cfd39066f4793aceb39e905587ee6": {
          "model_module": "@jupyter-widgets/controls",
          "model_name": "HTMLModel",
          "state": {
            "_view_name": "HTMLView",
            "style": "IPY_MODEL_63b588b35fda4409be09984c91c60ab2",
            "_dom_classes": [],
            "description": "",
            "_model_name": "HTMLModel",
            "placeholder": "​",
            "_view_module": "@jupyter-widgets/controls",
            "_model_module_version": "1.5.0",
            "value": " 16/16 [00:00&lt;00:00, 18.93it/s, loss=586.592, v_num=14]",
            "_view_count": null,
            "_view_module_version": "1.5.0",
            "description_tooltip": null,
            "_model_module": "@jupyter-widgets/controls",
            "layout": "IPY_MODEL_77d0174f33b14eb0ab7b00c7a1286997"
          }
        },
        "579ab3950fb5471d8dde6d18ef1813aa": {
          "model_module": "@jupyter-widgets/controls",
          "model_name": "ProgressStyleModel",
          "state": {
            "_view_name": "StyleView",
            "_model_name": "ProgressStyleModel",
            "description_width": "initial",
            "_view_module": "@jupyter-widgets/base",
            "_model_module_version": "1.5.0",
            "_view_count": null,
            "_view_module_version": "1.2.0",
            "bar_color": null,
            "_model_module": "@jupyter-widgets/controls"
          }
        },
        "3f5fadf04c7c48e68524ee33a584c005": {
          "model_module": "@jupyter-widgets/base",
          "model_name": "LayoutModel",
          "state": {
            "_view_name": "LayoutView",
            "grid_template_rows": null,
            "right": null,
            "justify_content": null,
            "_view_module": "@jupyter-widgets/base",
            "overflow": null,
            "_model_module_version": "1.2.0",
            "_view_count": null,
            "flex_flow": null,
            "width": null,
            "min_width": null,
            "border": null,
            "align_items": null,
            "bottom": null,
            "_model_module": "@jupyter-widgets/base",
            "top": null,
            "grid_column": null,
            "overflow_y": null,
            "overflow_x": null,
            "grid_auto_flow": null,
            "grid_area": null,
            "grid_template_columns": null,
            "flex": "2",
            "_model_name": "LayoutModel",
            "justify_items": null,
            "grid_row": null,
            "max_height": null,
            "align_content": null,
            "visibility": null,
            "align_self": null,
            "height": null,
            "min_height": null,
            "padding": null,
            "grid_auto_rows": null,
            "grid_gap": null,
            "max_width": null,
            "order": null,
            "_view_module_version": "1.2.0",
            "grid_template_areas": null,
            "object_position": null,
            "object_fit": null,
            "grid_auto_columns": null,
            "margin": null,
            "display": null,
            "left": null
          }
        },
        "63b588b35fda4409be09984c91c60ab2": {
          "model_module": "@jupyter-widgets/controls",
          "model_name": "DescriptionStyleModel",
          "state": {
            "_view_name": "StyleView",
            "_model_name": "DescriptionStyleModel",
            "description_width": "",
            "_view_module": "@jupyter-widgets/base",
            "_model_module_version": "1.5.0",
            "_view_count": null,
            "_view_module_version": "1.2.0",
            "_model_module": "@jupyter-widgets/controls"
          }
        },
        "77d0174f33b14eb0ab7b00c7a1286997": {
          "model_module": "@jupyter-widgets/base",
          "model_name": "LayoutModel",
          "state": {
            "_view_name": "LayoutView",
            "grid_template_rows": null,
            "right": null,
            "justify_content": null,
            "_view_module": "@jupyter-widgets/base",
            "overflow": null,
            "_model_module_version": "1.2.0",
            "_view_count": null,
            "flex_flow": null,
            "width": null,
            "min_width": null,
            "border": null,
            "align_items": null,
            "bottom": null,
            "_model_module": "@jupyter-widgets/base",
            "top": null,
            "grid_column": null,
            "overflow_y": null,
            "overflow_x": null,
            "grid_auto_flow": null,
            "grid_area": null,
            "grid_template_columns": null,
            "flex": null,
            "_model_name": "LayoutModel",
            "justify_items": null,
            "grid_row": null,
            "max_height": null,
            "align_content": null,
            "visibility": null,
            "align_self": null,
            "height": null,
            "min_height": null,
            "padding": null,
            "grid_auto_rows": null,
            "grid_gap": null,
            "max_width": null,
            "order": null,
            "_view_module_version": "1.2.0",
            "grid_template_areas": null,
            "object_position": null,
            "object_fit": null,
            "grid_auto_columns": null,
            "margin": null,
            "display": null,
            "left": null
          }
        }
      }
    }
  },
  "cells": [
    {
      "cell_type": "markdown",
      "metadata": {
        "id": "nqrfF31ModAd",
        "colab_type": "text"
      },
      "source": [
        "Based on PySyft's tutorial https://github.com/OpenMined/PySyft/blob/master/examples/tutorials/Part%2007%20-%20Federated%20Learning%20with%20Federated%20Dataset.ipynb"
      ]
    },
    {
      "cell_type": "code",
      "metadata": {
        "id": "InoJZIVwopGO",
        "colab_type": "code",
        "colab": {}
      },
      "source": [
        "! pip install syft\n",
        "! pip install git+https://github.com/PytorchLightning/pytorch-lightning.git@master --upgrade"
      ],
      "execution_count": null,
      "outputs": []
    },
    {
      "cell_type": "markdown",
      "metadata": {
        "id": "eF-lHBCRo1cx",
        "colab_type": "text"
      },
      "source": [
        "**RESTART RUNTIME**"
      ]
    },
    {
      "cell_type": "code",
      "metadata": {
        "id": "oWLs7MSHodM8",
        "colab_type": "code",
        "colab": {
          "base_uri": "https://localhost:8080/",
          "height": 51
        },
        "outputId": "eb14693e-12fd-4cb7-b066-043ddd07fa6f"
      },
      "source": [
        "import torch as th\n",
        "import syft as sy\n",
        "sy.create_sandbox(globals(), verbose=False)"
      ],
      "execution_count": 1,
      "outputs": [
        {
          "output_type": "stream",
          "text": [
            "Setting up Sandbox...\n",
            "Done!\n"
          ],
          "name": "stdout"
        }
      ]
    },
    {
      "cell_type": "code",
      "metadata": {
        "id": "EL2NFAwrocUj",
        "colab_type": "code",
        "colab": {}
      },
      "source": [
        "boston_data = grid.search(\"#boston\", \"#data\")\n",
        "boston_target = grid.search(\"#boston\", \"#target\")"
      ],
      "execution_count": 2,
      "outputs": []
    },
    {
      "cell_type": "code",
      "metadata": {
        "id": "7uwtv8vMo6nd",
        "colab_type": "code",
        "colab": {}
      },
      "source": [
        "n_features = boston_data['alice'][0].shape[1]\n",
        "n_targets = 1\n",
        "\n",
        "model = th.nn.Linear(n_features, n_targets)"
      ],
      "execution_count": 3,
      "outputs": []
    },
    {
      "cell_type": "code",
      "metadata": {
        "id": "adk0Ru62o84e",
        "colab_type": "code",
        "colab": {
          "base_uri": "https://localhost:8080/",
          "height": 34
        },
        "outputId": "eaa123e8-41cd-45cd-fcbb-74c859071d35"
      },
      "source": [
        "datasets = []\n",
        "for worker in boston_data.keys():\n",
        "    dataset = sy.BaseDataset(boston_data[worker][0], boston_target[worker][0])\n",
        "    datasets.append(dataset)\n",
        "\n",
        "# Build the FederatedDataset object\n",
        "dataset = sy.FederatedDataset(datasets)\n",
        "print(dataset.workers)\n",
        "optimizers = {}\n",
        "for worker in dataset.workers:\n",
        "    optimizers[worker] = th.optim.Adam(params=model.parameters(),lr=1e-2)"
      ],
      "execution_count": 4,
      "outputs": [
        {
          "output_type": "stream",
          "text": [
            "['bob', 'theo', 'jason', 'alice', 'andy', 'jon']\n"
          ],
          "name": "stdout"
        }
      ]
    },
    {
      "cell_type": "code",
      "metadata": {
        "id": "GuAQrnnYo_0z",
        "colab_type": "code",
        "colab": {}
      },
      "source": [
        "train_loader = sy.FederatedDataLoader(dataset, batch_size=32, shuffle=False, drop_last=False)\n"
      ],
      "execution_count": 5,
      "outputs": []
    },
    {
      "cell_type": "code",
      "metadata": {
        "id": "LAPsuA06pAD5",
        "colab_type": "code",
        "colab": {
          "base_uri": "https://localhost:8080/",
          "height": 697
        },
        "outputId": "e494109f-d7d1-4fc5-ec5f-1e038a215319"
      },
      "source": [
        "epochs = 10\n",
        "for epoch in range(1, epochs + 1):\n",
        "    loss_accum = 0\n",
        "    for batch_idx, (data, target) in enumerate(train_loader):\n",
        "        model.send(data.location)\n",
        "        \n",
        "        optimizer = optimizers[data.location.id]\n",
        "        optimizer.zero_grad()\n",
        "        pred = model(data)\n",
        "        loss = ((pred.view(-1) - target)**2).mean()\n",
        "        loss.backward()\n",
        "        optimizer.step()\n",
        "        \n",
        "        model.get()\n",
        "        loss = loss.get()\n",
        "        \n",
        "        loss_accum += float(loss)\n",
        "        \n",
        "        if batch_idx % 8 == 0:\n",
        "            print('Train Epoch: {} [{}/{} ({:.0f}%)]\\tBatch loss: {:.6f}'.format(\n",
        "                epoch, batch_idx, len(train_loader),\n",
        "                       100. * batch_idx / len(train_loader), loss.item()))            \n",
        "            \n",
        "    print('Total loss', loss_accum)"
      ],
      "execution_count": 7,
      "outputs": [
        {
          "output_type": "stream",
          "text": [
            "Train Epoch: 1 [0/16 (0%)]\tBatch loss: 17600.517578\n",
            "Train Epoch: 1 [8/16 (50%)]\tBatch loss: 3234.371582\n",
            "Train Epoch: 1 [16/16 (100%)]\tBatch loss: 368.728119\n",
            "Total loss 103776.92793273926\n",
            "Train Epoch: 2 [0/16 (0%)]\tBatch loss: 199.702728\n",
            "Train Epoch: 2 [8/16 (50%)]\tBatch loss: 3020.460449\n",
            "Train Epoch: 2 [16/16 (100%)]\tBatch loss: 2394.201660\n",
            "Total loss 37816.44436645508\n",
            "Train Epoch: 3 [0/16 (0%)]\tBatch loss: 1363.429688\n",
            "Train Epoch: 3 [8/16 (50%)]\tBatch loss: 2182.878418\n",
            "Train Epoch: 3 [16/16 (100%)]\tBatch loss: 19.086040\n",
            "Total loss 26556.274700164795\n",
            "Train Epoch: 4 [0/16 (0%)]\tBatch loss: 66.176903\n",
            "Train Epoch: 4 [8/16 (50%)]\tBatch loss: 58.115559\n",
            "Train Epoch: 4 [16/16 (100%)]\tBatch loss: 1589.703613\n",
            "Total loss 11086.372959136963\n",
            "Train Epoch: 5 [0/16 (0%)]\tBatch loss: 369.765839\n",
            "Train Epoch: 5 [8/16 (50%)]\tBatch loss: 187.276688\n",
            "Train Epoch: 5 [16/16 (100%)]\tBatch loss: 1099.701904\n",
            "Total loss 12775.664268493652\n",
            "Train Epoch: 6 [0/16 (0%)]\tBatch loss: 134.920349\n",
            "Train Epoch: 6 [8/16 (50%)]\tBatch loss: 43.344368\n",
            "Train Epoch: 6 [16/16 (100%)]\tBatch loss: 27.048470\n",
            "Total loss 2969.2659454345703\n",
            "Train Epoch: 7 [0/16 (0%)]\tBatch loss: 144.252213\n",
            "Train Epoch: 7 [8/16 (50%)]\tBatch loss: 247.194656\n",
            "Train Epoch: 7 [16/16 (100%)]\tBatch loss: 176.849319\n",
            "Total loss 4095.403242111206\n",
            "Train Epoch: 8 [0/16 (0%)]\tBatch loss: 334.594574\n",
            "Train Epoch: 8 [8/16 (50%)]\tBatch loss: 245.331909\n",
            "Train Epoch: 8 [16/16 (100%)]\tBatch loss: 51.076878\n",
            "Total loss 4586.587760925293\n",
            "Train Epoch: 9 [0/16 (0%)]\tBatch loss: 135.345963\n",
            "Train Epoch: 9 [8/16 (50%)]\tBatch loss: 61.006672\n",
            "Train Epoch: 9 [16/16 (100%)]\tBatch loss: 60.682446\n",
            "Total loss 2661.6517086029053\n",
            "Train Epoch: 10 [0/16 (0%)]\tBatch loss: 42.458809\n",
            "Train Epoch: 10 [8/16 (50%)]\tBatch loss: 72.883713\n",
            "Train Epoch: 10 [16/16 (100%)]\tBatch loss: 83.029457\n",
            "Total loss 2563.6421031951904\n"
          ],
          "name": "stdout"
        }
      ]
    },
    {
      "cell_type": "markdown",
      "metadata": {
        "id": "NuWX81mlphuN",
        "colab_type": "text"
      },
      "source": [
        "Let's redesign it with PyTorch-Lightning!"
      ]
    },
    {
      "cell_type": "code",
      "metadata": {
        "id": "dJ8pM8BqpkVf",
        "colab_type": "code",
        "colab": {}
      },
      "source": [
        "from pytorch_lightning.core.lightning import LightningModule\n",
        "import torch.nn.functional as F\n",
        "\n",
        "class LNet(LightningModule):\n",
        "    def __init__(self):\n",
        "        super(LNet, self).__init__()\n",
        "        #self.conv1 = nn.Conv2d(1, 20, 5, 1)\n",
        "        #self.conv2 = nn.Conv2d(20, 50, 5, 1)\n",
        "        self.fc1 = th.nn.Linear(n_features, n_targets)\n",
        "        #self.fc2 = nn.Linear(100, n_targets)\n",
        "\n",
        "    def forward(self, x):\n",
        "        #x = F.relu(self.conv1(x))\n",
        "        #x = F.max_pool2d(x, 2, 2)\n",
        "        #x = F.relu(self.conv2(x))\n",
        "        #x = F.max_pool2d(x, 2, 2)\n",
        "        #x = x.view(-1, 4*4*50)\n",
        "        x = F.relu(self.fc1(x))\n",
        "        #x = self.fc2(x)\n",
        "        return F.log_softmax(x, dim=1)\n",
        "\n",
        "    def training_step(self, batch, batch_idx):\n",
        "        data, target = batch\n",
        "        self.send(data.location)\n",
        "        pred = self.forward(data)\n",
        "        loss = ((pred.view(-1) - target)**2).mean()\n",
        "        self.get()\n",
        "        return {'loss': loss.get() }\n",
        "\n",
        "    def train_dataloader(self):\n",
        "       return sy.FederatedDataLoader(dataset, batch_size=32, shuffle=False, drop_last=False)\n",
        "    \n",
        "    def configure_optimizers(self):\n",
        "        # this is the part where I am confused!\n",
        "        # original: optimizer = optimizers[data.location.id]\n",
        "        # we cannot access the data in the moment here\n",
        "        # we do not get the appropriate optimizer in training_step()\n",
        "        # yet it is still working, I think?\n",
        "        optimizer = th.optim.Adam(params=self.parameters(),lr=1e-2)\n",
        "        return optimizer"
      ],
      "execution_count": 45,
      "outputs": []
    },
    {
      "cell_type": "code",
      "metadata": {
        "id": "omb6D3bapsWh",
        "colab_type": "code",
        "colab": {
          "base_uri": "https://localhost:8080/",
          "height": 185,
          "referenced_widgets": [
            "ebe3a81ca23a4e138b945f921dce35b8",
            "d492975e01484481b743c7e0ec9d6c7b",
            "0120902e94a84d479f1b5016a053aa73",
            "1b1cfd39066f4793aceb39e905587ee6",
            "579ab3950fb5471d8dde6d18ef1813aa",
            "3f5fadf04c7c48e68524ee33a584c005",
            "63b588b35fda4409be09984c91c60ab2",
            "77d0174f33b14eb0ab7b00c7a1286997"
          ]
        },
        "outputId": "cb8b0a4b-1530-4531-8498-680f3ddb2237"
      },
      "source": [
        "from pytorch_lightning import Trainer\n",
        "\n",
        "use_cuda = False\n",
        "device = th.device(\"cuda\" if use_cuda else \"cpu\")\n",
        "net = LNet().to(device)\n",
        "trainer = Trainer(gpus=0, max_epochs=10)\n",
        "trainer.fit(net)"
      ],
      "execution_count": 47,
      "outputs": [
        {
          "output_type": "stream",
          "text": [
            "GPU available: False, used: False\n",
            "TPU available: False, using: 0 TPU cores\n",
            "\n",
            "  | Name | Type   | Params\n",
            "--------------------------------\n",
            "0 | fc1  | Linear | 14    \n"
          ],
          "name": "stderr"
        },
        {
          "output_type": "display_data",
          "data": {
            "application/vnd.jupyter.widget-view+json": {
              "model_id": "ebe3a81ca23a4e138b945f921dce35b8",
              "version_minor": 0,
              "version_major": 2
            },
            "text/plain": [
              "HBox(children=(FloatProgress(value=1.0, bar_style='info', description='Training', layout=Layout(flex='2'), max…"
            ]
          },
          "metadata": {
            "tags": []
          }
        },
        {
          "output_type": "stream",
          "text": [
            "\n"
          ],
          "name": "stdout"
        },
        {
          "output_type": "execute_result",
          "data": {
            "text/plain": [
              "1"
            ]
          },
          "metadata": {
            "tags": []
          },
          "execution_count": 47
        }
      ]
    },
    {
      "cell_type": "code",
      "metadata": {
        "id": "ld8OTlOctQy8",
        "colab_type": "code",
        "colab": {
          "base_uri": "https://localhost:8080/",
          "height": 34
        },
        "outputId": "e9b025b7-0dbf-4643-be36-36375da356bc"
      },
      "source": [
        "dataset.workers"
      ],
      "execution_count": 48,
      "outputs": [
        {
          "output_type": "execute_result",
          "data": {
            "text/plain": [
              "['bob', 'theo', 'jason', 'alice', 'andy', 'jon']"
            ]
          },
          "metadata": {
            "tags": []
          },
          "execution_count": 48
        }
      ]
    }
  ]
}